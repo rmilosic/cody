{
 "cells": [
  {
   "cell_type": "code",
   "execution_count": 1,
   "id": "0dce18f0",
   "metadata": {},
   "outputs": [],
   "source": [
    "import pandas as pd \n",
    "\n",
    "data_df = pd.read_csv(\"test_data.csv\")"
   ]
  },
  {
   "cell_type": "code",
   "execution_count": 2,
   "id": "a8a72cfd",
   "metadata": {},
   "outputs": [
    {
     "data": {
      "application/vnd.microsoft.datawrangler.viewer.v0+json": {
       "columns": [
        {
         "name": "index",
         "rawType": "int64",
         "type": "integer"
        },
        {
         "name": "zprava",
         "rawType": "object",
         "type": "string"
        },
        {
         "name": "timestamp",
         "rawType": "object",
         "type": "string"
        },
        {
         "name": "vykony",
         "rawType": "object",
         "type": "string"
        },
        {
         "name": "materialy",
         "rawType": "object",
         "type": "unknown"
        }
       ],
       "ref": "4afc965e-08fb-4bc0-b9a9-1d9b0d0f74a4",
       "rows": [
        [
         "0",
         "Pacientka Nováková, demence středního stupně. Ráno zmatená, dezorientovaná v čase, křičela. Uklidnění slovně, podány perorálně anxiolytika dle ordinace lékaře. Následně zkontrolován příjem tekutin, dostatečný. Péče o suchou pokožku na lýtkách hydratačním krémem. Pacientka se poté uklidnila a usnula.",
         "2025-06-16 08:30:00",
         "6613;6620",
         "Hydratační krém"
        ],
        [
         "1",
         "Pan Dvořák, Alzheimerova choroba v pokročilém stádiu. Ranní toaleta s asistencí. Po toaletě proveden odběr krve na glykémii z prstu. Použity rukavice a lanceta. Výsledek 7.2 mmol/l. Dle pokynů lékaře podána medikace per os.",
         "2025-06-16 09:00:00",
         "6613;6621;6620",
         "Rukavice;Lanceta;Testovací proužky na glykémii"
        ],
        [
         "2",
         "Příjem nového pacienta, paní Veselá, v raném stádiu demence. Provedeno zavedení odborné zdravotní péče dle indikace lékaře. Seznámena s denním režimem, zjištěny základní anamnestické údaje, vyplněna dokumentace.",
         "2025-06-16 10:00:00",
         "6611",
         null
        ],
        [
         "3",
         "Paní Svobodová, vaskulární demence. V dopoledních hodinách neklidná, pokusila se o útěk. Provedena ošetřovatelská intervence – opakované uklidnění verbální, nabídnuto pití. Pacientka se postupně zklidnila, poté doprovod na společenskou místnost.",
         "2025-06-16 11:15:00",
         "6613",
         null
        ],
        [
         "4",
         "Pacient Novotný, Parkinsonova nemoc s demencí. Aplikace inzulínu subkutánně dle ordinace. Použita inzulínová stříkačka a dezinfekční tampón. Edukace pacienta o správné aplikaci inzulínu.",
         "2025-06-16 12:30:00",
         "6623;6637",
         "Inzulínová stříkačka;Dezinfekční tampón"
        ]
       ],
       "shape": {
        "columns": 4,
        "rows": 5
       }
      },
      "text/html": [
       "<div>\n",
       "<style scoped>\n",
       "    .dataframe tbody tr th:only-of-type {\n",
       "        vertical-align: middle;\n",
       "    }\n",
       "\n",
       "    .dataframe tbody tr th {\n",
       "        vertical-align: top;\n",
       "    }\n",
       "\n",
       "    .dataframe thead th {\n",
       "        text-align: right;\n",
       "    }\n",
       "</style>\n",
       "<table border=\"1\" class=\"dataframe\">\n",
       "  <thead>\n",
       "    <tr style=\"text-align: right;\">\n",
       "      <th></th>\n",
       "      <th>zprava</th>\n",
       "      <th>timestamp</th>\n",
       "      <th>vykony</th>\n",
       "      <th>materialy</th>\n",
       "    </tr>\n",
       "  </thead>\n",
       "  <tbody>\n",
       "    <tr>\n",
       "      <th>0</th>\n",
       "      <td>Pacientka Nováková, demence středního stupně. ...</td>\n",
       "      <td>2025-06-16 08:30:00</td>\n",
       "      <td>6613;6620</td>\n",
       "      <td>Hydratační krém</td>\n",
       "    </tr>\n",
       "    <tr>\n",
       "      <th>1</th>\n",
       "      <td>Pan Dvořák, Alzheimerova choroba v pokročilém ...</td>\n",
       "      <td>2025-06-16 09:00:00</td>\n",
       "      <td>6613;6621;6620</td>\n",
       "      <td>Rukavice;Lanceta;Testovací proužky na glykémii</td>\n",
       "    </tr>\n",
       "    <tr>\n",
       "      <th>2</th>\n",
       "      <td>Příjem nového pacienta, paní Veselá, v raném s...</td>\n",
       "      <td>2025-06-16 10:00:00</td>\n",
       "      <td>6611</td>\n",
       "      <td>NaN</td>\n",
       "    </tr>\n",
       "    <tr>\n",
       "      <th>3</th>\n",
       "      <td>Paní Svobodová, vaskulární demence. V dopoledn...</td>\n",
       "      <td>2025-06-16 11:15:00</td>\n",
       "      <td>6613</td>\n",
       "      <td>NaN</td>\n",
       "    </tr>\n",
       "    <tr>\n",
       "      <th>4</th>\n",
       "      <td>Pacient Novotný, Parkinsonova nemoc s demencí....</td>\n",
       "      <td>2025-06-16 12:30:00</td>\n",
       "      <td>6623;6637</td>\n",
       "      <td>Inzulínová stříkačka;Dezinfekční tampón</td>\n",
       "    </tr>\n",
       "  </tbody>\n",
       "</table>\n",
       "</div>"
      ],
      "text/plain": [
       "                                              zprava            timestamp  \\\n",
       "0  Pacientka Nováková, demence středního stupně. ...  2025-06-16 08:30:00   \n",
       "1  Pan Dvořák, Alzheimerova choroba v pokročilém ...  2025-06-16 09:00:00   \n",
       "2  Příjem nového pacienta, paní Veselá, v raném s...  2025-06-16 10:00:00   \n",
       "3  Paní Svobodová, vaskulární demence. V dopoledn...  2025-06-16 11:15:00   \n",
       "4  Pacient Novotný, Parkinsonova nemoc s demencí....  2025-06-16 12:30:00   \n",
       "\n",
       "           vykony                                       materialy  \n",
       "0       6613;6620                                 Hydratační krém  \n",
       "1  6613;6621;6620  Rukavice;Lanceta;Testovací proužky na glykémii  \n",
       "2            6611                                             NaN  \n",
       "3            6613                                             NaN  \n",
       "4       6623;6637         Inzulínová stříkačka;Dezinfekční tampón  "
      ]
     },
     "execution_count": 2,
     "metadata": {},
     "output_type": "execute_result"
    }
   ],
   "source": [
    "data_df.head(\n",
    ")"
   ]
  },
  {
   "cell_type": "code",
   "execution_count": 8,
   "id": "9cf8f264",
   "metadata": {},
   "outputs": [],
   "source": [
    "evalset = []\n",
    "for i, row in data_df.iterrows():\n",
    "    evalset.append({\n",
    "        \"inputs\": {\n",
    "            \"report\": row[\"zprava\"],\n",
    "            \"timestamp\": row[\"timestamp\"]\n",
    "        },\n",
    "        \"outputs\": {\n",
    "            \"vykony\": row[\"vykony\"],\n",
    "            \"materialy\": row[\"materialy\"]\n",
    "        }\n",
    "    })"
   ]
  },
  {
   "cell_type": "code",
   "execution_count": 10,
   "id": "0a3c8c53",
   "metadata": {},
   "outputs": [
    {
     "data": {
      "text/plain": [
       "{'example_ids': ['b453b7be-2a12-4d98-9967-aa8ae293cc5f',\n",
       "  '01dd0da8-ecb5-4d00-a824-fed5118cf0eb',\n",
       "  '8c35b3a9-c926-4520-bb1c-23a89b2fa944',\n",
       "  'bf771eb9-a083-4944-b49e-17edcb5acb5b',\n",
       "  'd31f05c6-21b1-40f1-9ff0-399962bb4640',\n",
       "  '9e5b7ae4-13a1-4ce5-8736-1f5d3e96e05a',\n",
       "  '31e8b877-1953-4010-ba90-3d90f6f058ea',\n",
       "  'f6c732a5-bbd2-4f98-912f-f124dac1a12d',\n",
       "  '6c839d0e-7386-47a7-b9d1-1682abdeefc3',\n",
       "  'a461d42f-ef5f-4eda-8316-6bb0e4234be8',\n",
       "  'e71dc81e-060d-4397-8c44-ed601fb35e8a',\n",
       "  'ba90cc65-9b7d-40e6-aa9b-aa71136f67c7',\n",
       "  'f78c5a6d-3868-4e48-afb4-16c788bd8c86',\n",
       "  'b3940863-eda1-4a04-9b04-c2a290ad9d0b',\n",
       "  '4e749f81-63b5-42f6-894c-7645c0360dba',\n",
       "  '1b99a54c-8b31-4acd-a46a-2684033c71aa',\n",
       "  '37aea244-2cc8-402e-a31d-031fd31db94b',\n",
       "  'aa3e60cd-ba4e-46ce-acf1-0c18a1db7f09',\n",
       "  '4785da1c-f171-42bf-8a78-94a9b66c8ebd',\n",
       "  'f1c2ac29-61d0-4df1-aac0-b8843d3d1d7b'],\n",
       " 'count': 20}"
      ]
     },
     "execution_count": 10,
     "metadata": {},
     "output_type": "execute_result"
    }
   ],
   "source": [
    "from langsmith import Client\n",
    "\n",
    "from dotenv import load_dotenv\n",
    "from langsmith import Client\n",
    "\n",
    "# Load environment variables from a .env file\n",
    "load_dotenv()\n",
    "\n",
    "client = Client()\n",
    "\n",
    "# Programmatically create a dataset in LangSmith\n",
    "# For other dataset creation methods, see:\n",
    "# https://docs.smith.langchain.com/evaluation/how_to_guides/manage_datasets_programmatically\n",
    "# https://docs.smith.langchain.com/evaluation/how_to_guides/manage_datasets_in_application\n",
    "dataset = client.create_dataset(\n",
    "    dataset_name=\"cody-test\", description=\"A sample dataset in LangSmith.\"\n",
    ")\n",
    "\n",
    "\n",
    "\n",
    "# Add examples to the dataset\n",
    "client.create_examples(dataset_id=dataset.id, examples=evalset)"
   ]
  }
 ],
 "metadata": {
  "kernelspec": {
   "display_name": "023-rakathon",
   "language": "python",
   "name": "python3"
  },
  "language_info": {
   "codemirror_mode": {
    "name": "ipython",
    "version": 3
   },
   "file_extension": ".py",
   "mimetype": "text/x-python",
   "name": "python",
   "nbconvert_exporter": "python",
   "pygments_lexer": "ipython3",
   "version": "3.13.3"
  }
 },
 "nbformat": 4,
 "nbformat_minor": 5
}
