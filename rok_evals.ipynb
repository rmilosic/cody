{
 "cells": [
  {
   "cell_type": "code",
   "execution_count": 2,
   "id": "0dce18f0",
   "metadata": {},
   "outputs": [],
   "source": [
    "import pandas as pd \n",
    "\n",
    "data_df = pd.read_csv(\"test_data.csv\")"
   ]
  },
  {
   "cell_type": "code",
   "execution_count": 3,
   "id": "a8a72cfd",
   "metadata": {},
   "outputs": [
    {
     "data": {
      "application/vnd.microsoft.datawrangler.viewer.v0+json": {
       "columns": [
        {
         "name": "index",
         "rawType": "int64",
         "type": "integer"
        },
        {
         "name": "zprava",
         "rawType": "object",
         "type": "string"
        },
        {
         "name": "timestamp",
         "rawType": "object",
         "type": "string"
        },
        {
         "name": "vykony",
         "rawType": "object",
         "type": "string"
        },
        {
         "name": "materialy",
         "rawType": "object",
         "type": "unknown"
        }
       ],
       "ref": "3444ab9d-b006-4edb-b1ef-368a6bcf4ebd",
       "rows": [
        [
         "0",
         "Pacientka Nováková, demence středního stupně. Ráno zmatená, dezorientovaná v čase, křičela. Uklidnění slovně, podány perorálně anxiolytika dle ordinace lékaře. Následně zkontrolován příjem tekutin, dostatečný. Péče o suchou pokožku na lýtkách hydratačním krémem. Pacientka se poté uklidnila a usnula.",
         "2025-06-16 08:30:00",
         "6613;6620",
         "Hydratační krém"
        ],
        [
         "1",
         "Pan Dvořák, Alzheimerova choroba v pokročilém stádiu. Ranní toaleta s asistencí. Po toaletě proveden odběr krve na glykémii z prstu. Použity rukavice a lanceta. Výsledek 7.2 mmol/l. Dle pokynů lékaře podána medikace per os.",
         "2025-06-16 09:00:00",
         "6613;6621;6620",
         "Rukavice;Lanceta;Testovací proužky na glykémii"
        ],
        [
         "2",
         "Příjem nového pacienta, paní Veselá, v raném stádiu demence. Provedeno zavedení odborné zdravotní péče dle indikace lékaře. Seznámena s denním režimem, zjištěny základní anamnestické údaje, vyplněna dokumentace.",
         "2025-06-16 10:00:00",
         "6611",
         null
        ],
        [
         "3",
         "Paní Svobodová, vaskulární demence. V dopoledních hodinách neklidná, pokusila se o útěk. Provedena ošetřovatelská intervence – opakované uklidnění verbální, nabídnuto pití. Pacientka se postupně zklidnila, poté doprovod na společenskou místnost.",
         "2025-06-16 11:15:00",
         "6613",
         null
        ],
        [
         "4",
         "Pacient Novotný, Parkinsonova nemoc s demencí. Aplikace inzulínu subkutánně dle ordinace. Použita inzulínová stříkačka a dezinfekční tampón. Edukace pacienta o správné aplikaci inzulínu.",
         "2025-06-16 12:30:00",
         "6623;6637",
         "Inzulínová stříkačka;Dezinfekční tampón"
        ]
       ],
       "shape": {
        "columns": 4,
        "rows": 5
       }
      },
      "text/html": [
       "<div>\n",
       "<style scoped>\n",
       "    .dataframe tbody tr th:only-of-type {\n",
       "        vertical-align: middle;\n",
       "    }\n",
       "\n",
       "    .dataframe tbody tr th {\n",
       "        vertical-align: top;\n",
       "    }\n",
       "\n",
       "    .dataframe thead th {\n",
       "        text-align: right;\n",
       "    }\n",
       "</style>\n",
       "<table border=\"1\" class=\"dataframe\">\n",
       "  <thead>\n",
       "    <tr style=\"text-align: right;\">\n",
       "      <th></th>\n",
       "      <th>zprava</th>\n",
       "      <th>timestamp</th>\n",
       "      <th>vykony</th>\n",
       "      <th>materialy</th>\n",
       "    </tr>\n",
       "  </thead>\n",
       "  <tbody>\n",
       "    <tr>\n",
       "      <th>0</th>\n",
       "      <td>Pacientka Nováková, demence středního stupně. ...</td>\n",
       "      <td>2025-06-16 08:30:00</td>\n",
       "      <td>6613;6620</td>\n",
       "      <td>Hydratační krém</td>\n",
       "    </tr>\n",
       "    <tr>\n",
       "      <th>1</th>\n",
       "      <td>Pan Dvořák, Alzheimerova choroba v pokročilém ...</td>\n",
       "      <td>2025-06-16 09:00:00</td>\n",
       "      <td>6613;6621;6620</td>\n",
       "      <td>Rukavice;Lanceta;Testovací proužky na glykémii</td>\n",
       "    </tr>\n",
       "    <tr>\n",
       "      <th>2</th>\n",
       "      <td>Příjem nového pacienta, paní Veselá, v raném s...</td>\n",
       "      <td>2025-06-16 10:00:00</td>\n",
       "      <td>6611</td>\n",
       "      <td>NaN</td>\n",
       "    </tr>\n",
       "    <tr>\n",
       "      <th>3</th>\n",
       "      <td>Paní Svobodová, vaskulární demence. V dopoledn...</td>\n",
       "      <td>2025-06-16 11:15:00</td>\n",
       "      <td>6613</td>\n",
       "      <td>NaN</td>\n",
       "    </tr>\n",
       "    <tr>\n",
       "      <th>4</th>\n",
       "      <td>Pacient Novotný, Parkinsonova nemoc s demencí....</td>\n",
       "      <td>2025-06-16 12:30:00</td>\n",
       "      <td>6623;6637</td>\n",
       "      <td>Inzulínová stříkačka;Dezinfekční tampón</td>\n",
       "    </tr>\n",
       "  </tbody>\n",
       "</table>\n",
       "</div>"
      ],
      "text/plain": [
       "                                              zprava            timestamp  \\\n",
       "0  Pacientka Nováková, demence středního stupně. ...  2025-06-16 08:30:00   \n",
       "1  Pan Dvořák, Alzheimerova choroba v pokročilém ...  2025-06-16 09:00:00   \n",
       "2  Příjem nového pacienta, paní Veselá, v raném s...  2025-06-16 10:00:00   \n",
       "3  Paní Svobodová, vaskulární demence. V dopoledn...  2025-06-16 11:15:00   \n",
       "4  Pacient Novotný, Parkinsonova nemoc s demencí....  2025-06-16 12:30:00   \n",
       "\n",
       "           vykony                                       materialy  \n",
       "0       6613;6620                                 Hydratační krém  \n",
       "1  6613;6621;6620  Rukavice;Lanceta;Testovací proužky na glykémii  \n",
       "2            6611                                             NaN  \n",
       "3            6613                                             NaN  \n",
       "4       6623;6637         Inzulínová stříkačka;Dezinfekční tampón  "
      ]
     },
     "execution_count": 3,
     "metadata": {},
     "output_type": "execute_result"
    }
   ],
   "source": [
    "data_df.head(\n",
    ")"
   ]
  },
  {
   "cell_type": "code",
   "execution_count": 8,
   "id": "9cf8f264",
   "metadata": {},
   "outputs": [],
   "source": [
    "evalset = []\n",
    "for i, row in data_df.iterrows():\n",
    "    evalset.append({\n",
    "        \"inputs\": {\n",
    "            \"text\": row[\"zprava\"],\n",
    "            \"odbornost\": \"913\",\n",
    "            \"diag_primary\": \"test\",\n",
    "            \"diag_secondary\": \"test\",\n",
    "            \"timestamp\": row[\"timestamp\"]\n",
    "        },\n",
    "        \"outputs\": {\n",
    "            \"vykony\": row[\"vykony\"],\n",
    "            \"materialy\": row[\"materialy\"]\n",
    "        }\n",
    "    })"
   ]
  },
  {
   "cell_type": "code",
   "execution_count": 9,
   "id": "143aa837",
   "metadata": {},
   "outputs": [],
   "source": [
    "from langsmith import Client\n",
    "\n",
    "from dotenv import load_dotenv\n",
    "from langsmith import Client\n",
    "\n",
    "# Load environment variables from a .env file\n",
    "load_dotenv()\n",
    "\n",
    "client = Client()"
   ]
  },
  {
   "cell_type": "code",
   "execution_count": 10,
   "id": "1c13871f",
   "metadata": {},
   "outputs": [
    {
     "ename": "AttributeError",
     "evalue": "'Client' object has no attribute 'get_'",
     "output_type": "error",
     "traceback": [
      "\u001b[31m---------------------------------------------------------------------------\u001b[39m",
      "\u001b[31mAttributeError\u001b[39m                            Traceback (most recent call last)",
      "\u001b[36mCell\u001b[39m\u001b[36m \u001b[39m\u001b[32mIn[10]\u001b[39m\u001b[32m, line 1\u001b[39m\n\u001b[32m----> \u001b[39m\u001b[32m1\u001b[39m \u001b[43mclient\u001b[49m\u001b[43m.\u001b[49m\u001b[43mget_\u001b[49m\n",
      "\u001b[31mAttributeError\u001b[39m: 'Client' object has no attribute 'get_'"
     ]
    }
   ],
   "source": [
    "client.get_"
   ]
  },
  {
   "cell_type": "code",
   "execution_count": 12,
   "id": "0a3c8c53",
   "metadata": {},
   "outputs": [
    {
     "data": {
      "text/plain": [
       "{'example_ids': ['b7572b74-7520-4c7f-8784-dba1b091bd89',\n",
       "  'bf1b2a09-d421-4562-81e9-4e8c1c36cae8',\n",
       "  'be98563f-3c39-4a28-b656-138c9b6468a6',\n",
       "  '97f1c3b2-c45e-435d-99f9-6bf150ddfcdc',\n",
       "  'fb9e0505-3da5-4c89-bc57-8ce4b77ea744',\n",
       "  '3f8f452f-5945-4c8b-a6e6-23e321b38fdb',\n",
       "  '2f362614-11b4-4285-a4e6-4f9f1ab4dcb5',\n",
       "  '3e5a92ed-84f3-46be-81d9-b84991e6bb8c',\n",
       "  '93732406-79c2-4e21-bb8e-8a1d5e1bc7b4',\n",
       "  'c39ac10a-70ba-4918-9f2b-f3960a40398e',\n",
       "  'ac774642-7337-4f86-96f6-7bc996047e5a',\n",
       "  '31f2b8cd-cbbe-4006-a8b5-93ad893b1447',\n",
       "  '4775c064-bced-4904-bebb-7d4c82dce21a',\n",
       "  'be90b0c9-4fa0-42d7-a0b6-7f99c5a869f3',\n",
       "  '2e735ef3-18e1-4f6c-8711-971a42dfb730',\n",
       "  'df6e6399-7e8a-493f-b94f-75bb9010c8dc',\n",
       "  '9c0488e2-2fba-4689-9bc9-712adc76982b',\n",
       "  '294f7d42-aff6-4627-8ebc-cd71dc646266',\n",
       "  '7ab69e72-6a05-49e9-9d0c-c3c5338791d7',\n",
       "  '681ed4fa-85f3-4f6c-b4f9-acbc7aa8558c'],\n",
       " 'count': 20}"
      ]
     },
     "execution_count": 12,
     "metadata": {},
     "output_type": "execute_result"
    }
   ],
   "source": [
    "\n",
    "\n",
    "# Programmatically create a dataset in LangSmith\n",
    "# For other dataset creation methods, see:\n",
    "# https://docs.smith.langchain.com/evaluation/how_to_guides/manage_datasets_programmatically\n",
    "# https://docs.smith.langchain.com/evaluation/how_to_guides/manage_datasets_in_application\n",
    "dataset = client.create_dataset(\n",
    "    dataset_name=\"cody-test\", description=\"A sample dataset in LangSmith.\"\n",
    ")\n",
    "\n",
    "\n",
    "\n",
    "# Add examples to the dataset\n",
    "client.create_examples(dataset_id=dataset.id, examples=evalset)"
   ]
  },
  {
   "cell_type": "code",
   "execution_count": 7,
   "id": "89f7c0c4",
   "metadata": {},
   "outputs": [],
   "source": [
    "client.delete_dataset(dataset_id=\"371e8eab-5479-4fb8-b9e2-a501f68d8513\")"
   ]
  }
 ],
 "metadata": {
  "kernelspec": {
   "display_name": "023-rakathon",
   "language": "python",
   "name": "python3"
  },
  "language_info": {
   "codemirror_mode": {
    "name": "ipython",
    "version": 3
   },
   "file_extension": ".py",
   "mimetype": "text/x-python",
   "name": "python",
   "nbconvert_exporter": "python",
   "pygments_lexer": "ipython3",
   "version": "3.13.3"
  }
 },
 "nbformat": 4,
 "nbformat_minor": 5
}
